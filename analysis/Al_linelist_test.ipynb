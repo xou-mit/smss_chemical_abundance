{
 "cells": [
  {
   "cell_type": "code",
   "execution_count": 7,
   "metadata": {},
   "outputs": [],
   "source": [
    "import numpy as np\n",
    "import matplotlib.pyplot as plt\n",
    "import time, sys, os\n",
    "\n",
    "# test the ability to import alexmods\n",
    "from alexmods import smhr\n",
    "from alexmods.smhutils import element_to_atomic_number, mkdtemp\n",
    "from alexmods.linelists import LineList\n",
    "import alexmods.smhr.radiative_transfer.moog as rt\n",
    "from alexmods.smhr.photospheres.abundances import asplund_2009 as solar_composition"
   ]
  },
  {
   "cell_type": "code",
   "execution_count": 3,
   "metadata": {},
   "outputs": [
    {
     "name": "stderr",
     "output_type": "stream",
     "text": [
      "2020-09-01 12:57:28,413 [DEBUG   ] Initialising CASTELLI/KURUCZ photosphere interpolator\n"
     ]
    }
   ],
   "source": [
    "interpolator = smhr.photospheres.interpolator()\n",
    "marcs_interpolator = smhr.photospheres.marcs_interp() #interpolator(\"marcs\")\n",
    "outdir = \"/Users/xwou/Documents/Research/MIT/sp2020/analysis/Al_linelist_tests\""
   ]
  },
  {
   "cell_type": "code",
   "execution_count": 4,
   "metadata": {},
   "outputs": [],
   "source": [
    "global_isotopes = {\n",
    "    \"Ba\": {134: 0.0, 135: 0.37, 136: 0.0, 137: 0.351, 138: 0.279},\n",
    "    \"C-C\": {1212: 0.9, 1213: 0.1},\n",
    "    \"C-N\": {1214: 0.9, 1314: 0.1},\n",
    "    \"H-C\": {112: 0.9, 113: 0.1},\n",
    "    \"Eu\": {151: 0.467, 153: 0.533}\n",
    "}"
   ]
  },
  {
   "cell_type": "code",
   "execution_count": 27,
   "metadata": {},
   "outputs": [],
   "source": [
    "def make_photosphere(Teff, logg, vt, MH, alpha=0.4):\n",
    "    photosphere = interpolator(Teff, logg, MH, alpha)\n",
    "    photosphere.meta[\"stellar_parameters\"][\"microturbulence\"] = vt\n",
    "    return photosphere\n",
    "\n",
    "def make_name(Teff, logg, vt, MH, alpha, prefix=\"\", suffix=\".npy\",\n",
    "              elems=None, XFes=None):\n",
    "    sign = \"m\" if MH < 0 else \"p\"\n",
    "    if elems is None:\n",
    "        return \"{}T{:.0f}_g{:02.0f}_v{:02.0f}_{}{:02.0f}_a{:.0f}{}\".format(\n",
    "            prefix,\n",
    "            Teff, int(logg*10), int(vt*10), sign, abs(MH*10), int(alpha*10), \n",
    "            suffix)\n",
    "    assert len(elems) == len(XFes)\n",
    "    fmt = \"{}T{:.0f}_g{:02.0f}_v{:02.0f}_{}{:02.0f}_a{:.0f}\"\n",
    "    for elem in elems:\n",
    "        fmt += \"_{}{{:+3.2f}}\".format(elem)\n",
    "    return fmt.format(\n",
    "        prefix,\n",
    "        Teff, int(logg*10), int(vt*10), sign, abs(MH*10), int(alpha*10), \n",
    "        *XFes)+suffix\n",
    "\n",
    "def make_marcs_photosphere(Teff, logg, vt, MH):\n",
    "    photosphere = marcs_interpolator(Teff, logg, MH)\n",
    "    photosphere.meta[\"stellar_parameters\"][\"microturbulence\"] = vt\n",
    "    return photosphere\n",
    "\n",
    "def CrFe_func(feh):\n",
    "    return 0.144 + 0.129 * feh\n",
    "def MnFe_func(feh):\n",
    "    return -0.234 + 0.096 * feh\n",
    "\n",
    "def make_abundances(MH, aFe, XFes, elems=[13]):\n",
    "    \"\"\" Converts [X/Fe] to logeps, using MH as [Fe/H] \"\"\"\n",
    "    # Cr, Mn: varies with MH, fit using Roederer+2014\n",
    "    # O, Si, Ti, Mg, Ca: vary with aFe\n",
    "    # K, Al: hardcoded to mean value in Roederer+2014 of +0.4, -0.65 (Altered! Just K now; varying Al)\n",
    "    # Ba: hardcoded to mean value in Yong+2013 of -0.57\n",
    "    # C, Na, Co, Ni, V, Sc, Ce, Nd, Eu, and other elements are solar ratio\n",
    "    assert len(XFes) == len(elems)\n",
    "    def make_logeps(elem, XFe):\n",
    "        return XFe + MH + solar_composition(elem)\n",
    "    all_elems = [\"Fe\", \"Cr\", \"Mn\", \"O\", \"Si\", \"Mg\", \"Ca\", \"Ti\", \"K\", \"Ba\"] + list(elems)\n",
    "    assert len(all_elems) == len(np.unique(all_elems))\n",
    "    all_XFes = [0.0, CrFe_func(MH), MnFe_func(MH), aFe, aFe, aFe, aFe, aFe, 0.4, -0.57] + list(XFes)\n",
    "    \n",
    "    all_Zs = [element_to_atomic_number(el) for el in all_elems]\n",
    "    all_logeps = [make_logeps(elem, XFe) for elem, XFe in zip(all_elems, all_XFes)]\n",
    "    abundances = dict(zip(all_Zs, all_logeps))\n",
    "    return abundances"
   ]
  },
  {
   "cell_type": "code",
   "execution_count": 38,
   "metadata": {},
   "outputs": [
    {
     "name": "stderr",
     "output_type": "stream",
     "text": [
      "2020-09-01 23:59:09,063 [DEBUG   ] Executing MOOG input file: /tmp/tmp_wnkkbu3/batch.par\n"
     ]
    },
    {
     "name": "stdout",
     "output_type": "stream",
     "text": [
      "Writing to T4250_g00_v21_m30_a4_Al-0.75.npy\n",
      "twd = /tmp/tmp_wnkkbu3\n",
      "making photosphere 4250 0.0 2.1 -3.0 0.4\n",
      "synthesizing T4250_g00_v21_m30_a4_Al-0.75.npy\n",
      "succeeded with 1001 points in 0.4s\n",
      "saved to T4250_g00_v21_m30_a4_Al-0.75.npy\n",
      "Total took 0.5s\n",
      "Removing temporary directory except model.in and batch.par\n"
     ]
    }
   ],
   "source": [
    "# Modified from the example code\n",
    "start0 = time.time()\n",
    "Tarr = np.arange(4000, 5500, 250)\n",
    "garr = np.arange(0.0, 4.1, 0.5)\n",
    "Marr = np.arange(-5.5, 0.01, 0.5)\n",
    "aarr = np.array([0.0, 0.4])\n",
    "listarr = [\"Al3944.moog\",\"Al3944_KhfsnoC2.moog\",\"Al3944_MhfsnoC2.moog\",\"Al3944_feadj.moog\"]\n",
    "alarr = np.array([-5, -0.75 ,-0.7, -0.65, -0.6, -0.55])\n",
    "T = Tarr[1]\n",
    "g = garr[0]\n",
    "v = 2.10\n",
    "M = Marr[5]\n",
    "a = aarr[1]\n",
    "al = alarr[1]\n",
    "allist = listarr[1]\n",
    "listdir = \"/Users/xwou/Dropbox/20200609_smhr\"\n",
    "\n",
    "# Everything solar version\n",
    "# abundances = None\n",
    "# outfname = make_name(T, g, v, M, a)\n",
    "# twd = make_name(T, g, v, M, a, prefix=\"/tmp/\", suffix=\"\")\n",
    "\n",
    "# Varying Al version\n",
    "XFes = [al]\n",
    "elems=[\"Al\"]\n",
    "assert len(XFes) == len(elems), (len(XFes), len(elems), XFes)\n",
    "\n",
    "abundances = make_abundances(M, a, XFes, elems)\n",
    "outfname = make_name(T, g, v, M, a, elems=elems, XFes=XFes)\n",
    "twd = mkdtemp(dir=\"/tmp/\")\n",
    "#\n",
    "\n",
    "if not os.path.exists(twd): os.makedirs(twd)\n",
    "    \n",
    "print(\"Writing to {}\".format(outfname))\n",
    "print(\"twd = {}\".format(twd))\n",
    "print(\"making photosphere\",T,g,v,M,a)\n",
    "photosphere = make_photosphere(T, g, v, M, a)\n",
    "\n",
    "print(\"synthesizing {}\".format(outfname))\n",
    "ll = LineList.read(os.path.join(listdir,allist))\n",
    "start = time.time()\n",
    "spectra = rt.synthesize(photosphere, ll, twd=twd,\n",
    "                        timeout=-1,\n",
    "                        scat=0,damping=1,\n",
    "                        abundances=abundances, isotopes=global_isotopes)\n",
    "spec = spectra[0]\n",
    "wave, flux, text = spec[0], spec[1], spec[2]\n",
    "print(\"succeeded with {} points in {:.1f}s\".format(len(wave), time.time()-start))\n",
    "np.save(os.path.join(outdir, outfname), np.vstack([wave, flux]).T)\n",
    "print(\"saved to {}\".format(outfname))\n",
    "print(\"Total took {:.1f}s\".format(time.time()-start0))\n",
    "print(\"Removing temporary directory except model.in and batch.par\")\n",
    "os.remove(os.path.join(twd,\"lines.in\"))\n",
    "os.remove(os.path.join(twd,\"synth.std.out\"))\n",
    "os.remove(os.path.join(twd,\"synth.sum.out\"))"
   ]
  },
  {
   "cell_type": "code",
   "execution_count": 55,
   "metadata": {},
   "outputs": [
    {
     "data": {
      "image/png": "[encoded data removed]",
      "text/plain": [
       "<Figure size 1440x144 with 1 Axes>"
      ]
     },
     "metadata": {
      "needs_background": "light"
     },
     "output_type": "display_data"
    }
   ],
   "source": [
    "# Loading the out put \n",
    "test_load1 = np.load('Al_linelist_tests/T4250_g00_v21_m30_a4_Al-5.0.npy')\n",
    "test_load2 = np.load('Al_linelist_tests/T4250_g00_v21_m30_a4_Al-0.75_O.npy')\n",
    "test_load3 = np.load('Al_linelist_tests/T4250_g00_v21_m30_a4_Al-0.75_K.npy')\n",
    "test_load4 = np.load('Al_linelist_tests/T4250_g00_v21_m30_a4_Al-0.65.npy')\n",
    "test_load5 = np.load('Al_linelist_tests/T4250_g00_v21_m30_a4_Al-0.60.npy')\n",
    "test_load6 = np.load('Al_linelist_tests/T4250_g00_v21_m30_a4_Al-0.55.npy')\n",
    "\n",
    "plt.figure(figsize=[20,2])\n",
    "# plt.plot(test_load1[:,0],test_load1[:,1])\n",
    "plt.plot(test_load2[:,0],test_load2[:,1])\n",
    "plt.plot(test_load3[:,0],test_load3[:,1],'--')\n",
    "# plt.plot(test_load4[:,0],test_load4[:,1])\n",
    "# plt.plot(test_load5[:,0],test_load5[:,1])\n",
    "# plt.plot(test_load6[:,0],test_load6[:,1])\n",
    "plt.axvline(3942.75)\n",
    "plt.axvline(3944.37)\n",
    "plt.xlim([3941,3947])\n",
    "plt.show()"
   ]
  },
  {
   "cell_type": "code",
   "execution_count": null,
   "metadata": {},
   "outputs": [],
   "source": [
    "# Alex's example code\n",
    "start0 = time.time()\n",
    "T, g, v, M, a  = [float(sys.argv[i]) for i in [1,2,3,4,5]]\n",
    "if len(sys.argv) == 15:\n",
    "    XFes = [float(sys.argv[i]) for i in range(6, len(sys.argv))]\n",
    "    elems=[\"C\", \"Mg\", \"Ca\", \"Ti\", \"Sr\", \"Ba\", \"Ce\", \"Nd\", \"Eu\"]\n",
    "    assert len(XFes) == len(elems), (len(XFes), len(elems), XFes)\n",
    "\n",
    "    abundances = make_abundances(M, a, XFes, elems)\n",
    "    outfname = make_name(T, g, v, M, a, elems=elems, XFes=XFes)\n",
    "    twd = mkdtemp(dir=\"/data001/aji/moog_grids/tmp/\")\n",
    "else:\n",
    "    assert len(sys.argv) == 6, sys.argv\n",
    "    abundances = None\n",
    "    outfname = make_name(T, g, v, M, a)\n",
    "    twd = make_name(T, g, v, M, a, prefix=\"/data001/aji/moog_grids/tmp/\", suffix=\"\")\n",
    "if not os.path.exists(twd): os.makedirs(twd)\n",
    "\n",
    "print(\"Writing to {}\".format(outfname))\n",
    "print(\"twd = {}\".format(twd))\n",
    "print(\"making photosphere\",T,g,v,M,a)\n",
    "photosphere = make_photosphere(T, g, v, M, a)\n",
    "\n",
    "#Tarr = np.arange(4000, 5751, 250)\n",
    "#garr = np.arange(0.0, 4.1, 0.5)\n",
    "#Marr = np.arange(-5.5, 0.01, 0.5)\n",
    "#aarr = np.array([0.0, 0.4])\n",
    "#T = Tarr[0]\n",
    "#g = garr[1]\n",
    "#v = 1.50\n",
    "#M = Marr[4]\n",
    "#a = aarr[1]\n",
    "\n",
    "print(\"synthesizing {}\".format(outfname))\n",
    "ll = LineList.read(\"big_list.moog\")\n",
    "#ll = LineList.read(\"test_linelist.moog\")\n",
    "start = time.time()\n",
    "spectra = rt.synthesize(photosphere, ll, twd=twd,\n",
    "                        timeout=-1,\n",
    "                        scat=0,damping=1,\n",
    "                        abundances=abundances, isotopes=global_isotopes)\n",
    "spec = spectra[0]\n",
    "wave, flux, text = spec[0], spec[1], spec[2]\n",
    "print(\"succeeded with {} points in {:.1f}s\".format(len(wave), time.time()-start))\n",
    "np.save(os.path.join(outdir, outfname), np.vstack([wave, flux]).T)\n",
    "print(\"saved to {}\".format(outfname))\n",
    "print(\"Total took {:.1f}s\".format(time.time()-start0))\n",
    "print(\"Removing temporary directory except model.in and batch.par\")\n",
    "os.remove(os.path.join(twd,\"lines.in\"))\n",
    "os.remove(os.path.join(twd,\"synth.std.out\"))\n",
    "os.remove(os.path.join(twd,\"synth.sum.out\"))"
   ]
  }
 ],
 "metadata": {
  "kernelspec": {
   "display_name": "Python 3",
   "language": "python",
   "name": "python3"
  },
  "language_info": {
   "codemirror_mode": {
    "name": "ipython",
    "version": 3
   },
   "file_extension": ".py",
   "mimetype": "text/x-python",
   "name": "python",
   "nbconvert_exporter": "python",
   "pygments_lexer": "ipython3",
   "version": "3.8.5"
  }
 },
 "nbformat": 4,
 "nbformat_minor": 4
}
