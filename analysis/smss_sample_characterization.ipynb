{
 "cells": [
  {
   "cell_type": "code",
   "execution_count": 3,
   "id": "happy-singapore",
   "metadata": {},
   "outputs": [],
   "source": [
    "import matplotlib.pyplot as plt\n",
    "import numpy as np\n",
    "import glob\n",
    "import pandas as pd\n",
    "from astropy.io import fits"
   ]
  },
  {
   "cell_type": "code",
   "execution_count": 21,
   "id": "changed-acrylic",
   "metadata": {},
   "outputs": [],
   "source": [
    "# \n",
    "fitsblue_list = glob.glob(\"../data/fits_data/*blue_multi.fits\")\n",
    "fitsred_list = glob.glob(\"../data/fits_data/*red_multi.fits\")"
   ]
  },
  {
   "cell_type": "code",
   "execution_count": 22,
   "id": "promotional-piece",
   "metadata": {},
   "outputs": [
    {
     "name": "stdout",
     "output_type": "stream",
     "text": [
      "74 74\n"
     ]
    }
   ],
   "source": [
    "print(len(fitsblue_list),len(fitsred_list))"
   ]
  },
  {
   "cell_type": "code",
   "execution_count": 25,
   "id": "southeast-repository",
   "metadata": {},
   "outputs": [
    {
     "name": "stdout",
     "output_type": "stream",
     "text": [
      "../data/fits_data/smss629blue_multi.fits\n"
     ]
    }
   ],
   "source": [
    "print(fitsblue_list[0])"
   ]
  },
  {
   "cell_type": "code",
   "execution_count": 29,
   "id": "composed-miller",
   "metadata": {},
   "outputs": [],
   "source": [
    "# Extract the fits files\n",
    "star_hdus = fits.open(fitsblue_list[0])\n",
    "star = star_hdus[0].data\n",
    "header = star_hdus[0].header\n",
    "star_hdus.close()"
   ]
  },
  {
   "cell_type": "code",
   "execution_count": 31,
   "id": "complicated-figure",
   "metadata": {},
   "outputs": [
    {
     "data": {
      "text/plain": [
       "(7, 36, 2048)"
      ]
     },
     "execution_count": 31,
     "metadata": {},
     "output_type": "execute_result"
    }
   ],
   "source": [
    "np.shape(star)"
   ]
  },
  {
   "cell_type": "code",
   "execution_count": 32,
   "id": "jewish-metro",
   "metadata": {},
   "outputs": [
    {
     "data": {
      "text/plain": [
       "SIMPLE  =                    T                                                  \n",
       "BITPIX  =                  -32                                                  \n",
       "NAXIS   =                    3                                                  \n",
       "NAXIS1  =                 2048                                                  \n",
       "NAXIS2  =                   36                                                  \n",
       "NAXIS3  =                    7                                                  \n",
       "BUNIT   = 'DU/PIXEL'                                                            \n",
       "ORIGIN  = 'OCIW/LCO'                                                            \n",
       "SITENAME= 'LCO'                                                                 \n",
       "SITEALT =                 2405         / meters                                 \n",
       "SITELAT =            -29.01423                                                  \n",
       "SITELONG=            -70.69242                                                  \n",
       "TELESCOP= 'Clay_Mag_2'                 / telescope                              \n",
       "OBSERVER= 'Frebel, Rasmussen, Chiti, Mardini'/ observer name                    \n",
       "UT-DATE = '2020-12-02'                 / UT date (start)                        \n",
       "UT-TIME =                 9405         / '02:36:45' UT time (start)             \n",
       "UT-START= '02:36:45'                                                            \n",
       "LC-TIME =                85005         / '23:36:45' local time (start)          \n",
       "LC-START= '23:36:45'                                                            \n",
       "TIMEZONE=                    4                                                  \n",
       "INSTRUME= 'MIKE-Blue'                  / instrument name                        \n",
       "SCALE   =               0.2608         / arcsec/pixel                           \n",
       "EGAIN   =                 0.47         / electrons/DU                           \n",
       "ENOISE  =                 2.70         / electrons/read                         \n",
       "OVERSCAN=                  128                                                  \n",
       "BIASLINS=                  128                                                  \n",
       "RA      = ' 01:23:45.3'                / right ascension                        \n",
       "RA-D    =           20.9389167         / [degrees] ( 01:23:45.3)                \n",
       "DEC     = '-73:31:59.6'                / declination                            \n",
       "DEC-D   =          -73.5332222         / [degrees] (-73:31:59.6)                \n",
       "EQUINOX =           2000.00000         / equinox                                \n",
       "EPOCH   =           2020.91833         / epoch (start)                          \n",
       "AIRMASS =                1.428         / airmass (start)                        \n",
       "ST      =               9576.8         / sidereal time: 02:39:36 (start)        \n",
       "HA      = '+01:23:53.5'                / hour angle (E<0)                       \n",
       "PARASTRT=               23.239         / paralactic angle (start)               \n",
       "PARA-END=               25.676         / paralactic angle (end)                 \n",
       "SLTASTRT=               38.713         / slit angle (start)                     \n",
       "SLTA-END=               41.388         / slit angle (end)                       \n",
       "TEMPDOME= 'n/a'                        / temperature dome [C]                   \n",
       "TEMPCELL= 'n/a'                        / temperature cell [C]                   \n",
       "TEMPOUTS=                 12.1         / temperature outside [C]                \n",
       "TEMPINST=                 15.2         / instrument temperature [C]             \n",
       "FILENAME= 'b1094'                                                               \n",
       "OBJECT  = 'SMSS629'                    / object name                            \n",
       "EXPTYPE = 'Object'                     / exposure type                          \n",
       "FILTER  =                              / filter                                 \n",
       "CAMCOM  =                              / camera comment                         \n",
       "EXPTIME =                 480.                                                  \n",
       "NLOOPS  =                    1         / # of loops per sequence                \n",
       "LOOP    =                    1         / # within this sequence                 \n",
       "BINNING = '2x2'                        / binning                                \n",
       "SPEED   = 'Slow'                       / readout speed                          \n",
       "SUBRASTR= 'none'                       / full frame                             \n",
       "SLITSIZE= '1.00x5.00'                  / slit size                              \n",
       "CFOCUS  =               1137.6         / camera focus                           \n",
       "GRAT-AZ =                 0.37         / grating azimuth                        \n",
       "GRAT-EL =                 0.54         / grating elevation                      \n",
       "CAL-LAMP= 'off'                        / lamp                                   \n",
       "TEMPCCD =                157.4         / temperature CCD [C]                    \n",
       "INSTCOM =                              / instrument comment                     \n",
       "CONFIG  =                              / camera configuration                   \n",
       "ADC     = 'in/auto'                    / ADC status (stage/control)             \n",
       "SOFTWARE= 'Version 2.7 (Aug  5 2019, 18:03:29)'                                 \n",
       "FITSVERS= '2.7'                        / FITS header version                    \n",
       "COMMENT                                                                         \n",
       "COMMENT                                                                         \n",
       "COMMENT                                                                         \n",
       "COMMENT                                                                         \n",
       "COMMENT                                                                         \n",
       "ECORD0  =                   71                                                  \n",
       "ECORD1  =                   72                                                  \n",
       "ECORD2  =                   73                                                  \n",
       "ECORD3  =                   74                                                  \n",
       "ECORD4  =                   75                                                  \n",
       "ECORD5  =                   76                                                  \n",
       "ECORD6  =                   77                                                  \n",
       "ECORD7  =                   78                                                  \n",
       "ECORD8  =                   79                                                  \n",
       "ECORD9  =                   80                                                  \n",
       "ECORD10 =                   81                                                  \n",
       "ECORD11 =                   82                                                  \n",
       "ECORD12 =                   83                                                  \n",
       "ECORD13 =                   84                                                  \n",
       "ECORD14 =                   85                                                  \n",
       "ECORD15 =                   86                                                  \n",
       "ECORD16 =                   87                                                  \n",
       "ECORD17 =                   88                                                  \n",
       "ECORD18 =                   89                                                  \n",
       "ECORD19 =                   90                                                  \n",
       "ECORD20 =                   91                                                  \n",
       "ECORD21 =                   92                                                  \n",
       "ECORD22 =                   93                                                  \n",
       "ECORD23 =                   94                                                  \n",
       "ECORD24 =                   95                                                  \n",
       "ECORD25 =                   96                                                  \n",
       "ECORD26 =                   97                                                  \n",
       "ECORD27 =                   98                                                  \n",
       "ECORD28 =                   99                                                  \n",
       "ECORD29 =                  100                                                  \n",
       "ECORD30 =                  101                                                  \n",
       "ECORD31 =                  102                                                  \n",
       "ECORD32 =                  103                                                  \n",
       "ECORD33 =                  104                                                  \n",
       "ECORD34 =                  105                                                  \n",
       "ECORD35 =                  106                                                  \n",
       "CDELT1  =                   1.                                                  \n",
       "CDELT2  =                   1.                                                  \n",
       "CDELT3  =                   1.                                                  \n",
       "CD1_1   =                   1.                                                  \n",
       "CD2_2   =                   1.                                                  \n",
       "CD3_3   =                   1.                                                  \n",
       "WCSDIM  =                    3                                                  \n",
       "LTM1_1  =                    1                                                  \n",
       "LTM2_2  =                    1                                                  \n",
       "LTM3_3  =                    1                                                  \n",
       "CTYPE1  = 'MULTISPE'                                                            \n",
       "CTYPE2  = 'MULTISPE'                                                            \n",
       "CTYPE3  = 'MULTISPE'                                                            \n",
       "BANDID1 = 'sky spectrum'                                                        \n",
       "BANDID2 = 'object spectrum'                                                     \n",
       "BANDID3 = 'noise spectrum'                                                      \n",
       "BANDID4 = 'signal-to-noise spectrum'                                            \n",
       "BANDID5 = 'lamp spectrum'                                                       \n",
       "BANDID6 = 'flat spectrum'                                                       \n",
       "BANDID7 = 'object spectrum divided by normed flat'                              \n",
       "WAT0_001= 'system=multispec'                                                    \n",
       "WAT1_001= 'wtype=multispec label=Wavelength units=angstroms'                    \n",
       "WAT2_001= 'wtype=multispec spec1 = \"71 1 0 4961.4487285051009 0.051488839388184'\n",
       "WAT2_002= '715 2048 0.000000 1004.184000 1011.724000\" spec2 = \"72 1 0 4892.5000'\n",
       "WAT2_003= '208430101 0.050570735418659751 2048 0.000000 982.834000 990.474000\" '\n",
       "WAT2_004= 'spec3 = \"73 1 0 4825.3817729438724 0.049707883476912684 2048 0.00000'\n",
       "WAT2_005= '0 961.181000 968.921000\" spec4 = \"74 1 0 4760.1148967278086 0.048898'\n",
       "WAT2_006= '157800067565 2048 0.000000 939.216000 947.056000\" spec5 = \"75 1 0 46'\n",
       "WAT2_007= '96.5832292890982 0.048136626908672042 2048 0.000000 916.941000 924.8'\n",
       "WAT2_008= '61000\" spec6 = \"76 1 0 4634.7196353383679 0.047419123879080871 2048 '\n",
       "WAT2_009= '0.000000 894.331000 902.351000\" spec7 = \"77 1 0 4574.4543959191442 0'\n",
       "WAT2_010= '.04674217537194636 2048 0.000000 871.387000 879.507000\" spec8 = \"78 '\n",
       "WAT2_011= '1 0 4515.7326650644482 0.046101699823339004 2048 0.000000 848.104000'\n",
       "WAT2_012= ' 856.324000\" spec9 = \"79 1 0 4458.4968971531334 0.045494201418478042'\n",
       "WAT2_013= ' 2048 0.000000 824.476000 832.796000\" spec10 = \"80 1 0 4402.68595017'\n",
       "WAT2_014= '75616 0.044916935873516195 2048 0.000000 800.508000 808.908000\" spec'\n",
       "WAT2_015= '11 = \"81 1 0 4348.2538414683759 0.044366286654621945 2048 0.000000 7'\n",
       "WAT2_016= '76.173000 784.673000\" spec12 = \"82 1 0 4295.1575825500649 0.04383871'\n",
       "WAT2_017= '4459525363 2048 0.000000 751.476000 760.076000\" spec13 = \"83 1 0 424'\n",
       "WAT2_018= '3.3298920965135 0.043333244111636304 2048 0.000000 726.412000 735.11'\n",
       "WAT2_019= '2000\" spec14 = \"84 1 0 4192.7746443644519 0.042845560209570976 2048 '\n",
       "WAT2_020= '0.000000 700.973000 709.773000\" spec15 = \"85 1 0 4143.3692536966628 '\n",
       "WAT2_021= '0.042374966124953062 2048 0.000000 675.165000 684.045000\" spec16 = \"'\n",
       "WAT2_022= '86 1 0 4095.1230228462127 0.041917297415238863 2048 0.000000 648.960'\n",
       "WAT2_023= '000 657.940000\" spec17 = \"87 1 0 4047.9824959173907 0.04147156363251'\n",
       "WAT2_024= '2698 2048 0.000000 622.363000 631.443000\" spec18 = \"88 1 0 4001.9097'\n",
       "WAT2_025= '506538069 0.041035660337456648 2048 0.000000 595.365000 604.545000\" '\n",
       "WAT2_026= 'spec19 = \"89 1 0 3956.8685039509182 0.040607573812394548 2048 0.0000'\n",
       "WAT2_027= '00 567.960000 577.240000\" spec20 = \"90 1 0 3912.8315173478854 0.0401'\n",
       "WAT2_028= '8484992093363 2048 0.000000 540.139000 549.519000\" spec21 = \"91 1 0 '\n",
       "WAT2_029= '3869.773393447078 0.039765209521647193 2048 0.000000 511.906000 521.'\n",
       "WAT2_030= '366000\" spec22 = \"92 1 0 3827.639699591623 0.039348564206648007 2048'\n",
       "WAT2_031= ' 0.000000 483.232000 492.792000\" spec23 = \"93 1 0 3786.415112569583 '\n",
       "WAT2_032= '0.038932259710691142 2048 0.000000 454.118000 463.778000\" spec24 = \"'\n",
       "WAT2_033= '94 1 0 3746.0705069684382 0.038514809415119089 2048 0.000000 424.555'\n",
       "WAT2_034= '000 434.315000\" spec25 = \"95 1 0 3706.5700158160535 0.03809525871793'\n",
       "WAT2_035= '0847 2048 0.000000 394.536000 404.396000\" spec26 = \"96 1 0 3667.8865'\n",
       "WAT2_036= '690896182 0.037672242028293113 2048 0.000000 364.060000 374.000000\" '\n",
       "WAT2_037= 'spec27 = \"97 1 0 3630.0021796910682 0.037244015340093028 2048 0.0000'\n",
       "WAT2_038= '00 333.100000 343.140000\" spec28 = \"98 1 0 3592.9000920843232 0.0368'\n",
       "WAT2_039= '08865561397397 2048 0.000000 301.657000 311.797000\" spec29 = \"99 1 0'\n",
       "WAT2_040= ' 3556.5321738835855 0.036367073224937485 2048 0.000000 269.723000 27'\n",
       "WAT2_041= '9.963000\" spec30 = \"100 1 0 3520.8914611928653 0.035916559211273125 '\n",
       "WAT2_042= '2048 0.000000 237.289000 247.629000\" spec31 = \"101 1 0 3485.94757524'\n",
       "WAT2_043= '78384 0.035456836229059263 2048 0.000000 204.359000 214.779000\" spec'\n",
       "WAT2_044= '32 = \"102 1 0 3451.6790287455033 0.034987031508990185 2048 0.000000 '\n",
       "WAT2_045= '170.907000 181.427000\" spec33 = \"103 1 0 3418.081706628619 0.0345047'\n",
       "WAT2_046= '05347444542 2048 0.000000 136.938000 147.558000\" spec34 = \"104 1 0 3'\n",
       "WAT2_047= '385.1108775717362 0.034011338085747411 2048 0.000000 102.447000 113.'\n",
       "WAT2_048= '167000\" spec35 = \"105 1 0 3352.8979012554273 0.03351322360595077 204'\n",
       "WAT2_049= '8 0.000000 67.432000 78.252000\" spec36 = \"106 1 0 3329.091188726969 '\n",
       "WAT2_050= '0.032489501315467351 2048 0.000000 31.903000 42.803000\"'             \n",
       "NUMEXP  =                    1                                                  \n",
       "EXP01   = 'smss629blue_spec1094fso.fits'                                        "
      ]
     },
     "execution_count": 32,
     "metadata": {},
     "output_type": "execute_result"
    }
   ],
   "source": [
    "header"
   ]
  },
  {
   "cell_type": "code",
   "execution_count": 34,
   "id": "behind-retirement",
   "metadata": {},
   "outputs": [
    {
     "data": {
      "text/plain": [
       "2048"
      ]
     },
     "execution_count": 34,
     "metadata": {},
     "output_type": "execute_result"
    }
   ],
   "source": [
    "len(star[3][0][:])"
   ]
  },
  {
   "cell_type": "code",
   "execution_count": 38,
   "id": "therapeutic-success",
   "metadata": {},
   "outputs": [
    {
     "data": {
      "image/png": "[encoded data removed]",
      "text/plain": [
       "<Figure size 432x288 with 1 Axes>"
      ]
     },
     "metadata": {
      "needs_background": "light"
     },
     "output_type": "display_data"
    }
   ],
   "source": [
    "plt.plot(range(2048),star[1][0][:])\n",
    "plt.show()"
   ]
  },
  {
   "cell_type": "code",
   "execution_count": null,
   "id": "generous-retail",
   "metadata": {},
   "outputs": [],
   "source": []
  }
 ],
 "metadata": {
  "kernelspec": {
   "display_name": "Python 3",
   "language": "python",
   "name": "python3"
  },
  "language_info": {
   "codemirror_mode": {
    "name": "ipython",
    "version": 3
   },
   "file_extension": ".py",
   "mimetype": "text/x-python",
   "name": "python",
   "nbconvert_exporter": "python",
   "pygments_lexer": "ipython3",
   "version": "3.8.5"
  }
 },
 "nbformat": 4,
 "nbformat_minor": 5
}
