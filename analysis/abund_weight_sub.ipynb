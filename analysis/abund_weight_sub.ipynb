{
 "cells": [
  {
   "cell_type": "code",
   "execution_count": 1,
   "id": "executive-hours",
   "metadata": {},
   "outputs": [],
   "source": [
    "import matplotlib.pyplot as plt\n",
    "import matplotlib\n",
    "import numpy as np\n",
    "import glob\n",
    "import pandas as pd"
   ]
  },
  {
   "cell_type": "code",
   "execution_count": null,
   "id": "opposite-momentum",
   "metadata": {},
   "outputs": [],
   "source": [
    "# Import the data\n",
    "smss_list = glob.glob(\"../data/mwtd_abund_err_0826/*\")\n",
    "\n",
    "\n",
    "abund_name = []\n",
    "abund_data = []\n",
    "\n",
    "\n",
    "for i in range(len(smss_list)):\n",
    "    # Read the name of the star\n",
    "    name = smss_list[i][28:-14]\n",
    "    # Read the abundances [X/Fe] and the total error\n",
    "#     temp_smss = pd.read_csv(smss_list[i],skiprows=[1],delim_whitespace=True)\n",
    "    temp_smss = pd.read_fwf(smss_list[i],skiprows=[1])\n",
    "    \n",
    "    # Store them \n",
    "    abund_name.append(name)\n",
    "    abund_data.append(temp_smss)\n",
    "    \n",
    "abund_name = np.array(abund_name)"
   ]
  }
 ],
 "metadata": {
  "kernelspec": {
   "display_name": "Python 3",
   "language": "python",
   "name": "python3"
  },
  "language_info": {
   "codemirror_mode": {
    "name": "ipython",
    "version": 3
   },
   "file_extension": ".py",
   "mimetype": "text/x-python",
   "name": "python",
   "nbconvert_exporter": "python",
   "pygments_lexer": "ipython3",
   "version": "3.8.5"
  }
 },
 "nbformat": 4,
 "nbformat_minor": 5
}
