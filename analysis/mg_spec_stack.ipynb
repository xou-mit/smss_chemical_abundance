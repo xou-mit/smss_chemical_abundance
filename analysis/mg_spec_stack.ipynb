{
 "cells": [
  {
   "cell_type": "code",
   "execution_count": 14,
   "metadata": {},
   "outputs": [],
   "source": [
    "import matplotlib.pyplot as plt\n",
    "import matplotlib\n",
    "import numpy as np\n",
    "import glob\n",
    "import pandas as pd\n",
    "\n",
    "from astropy.io import fits\n",
    "\n",
    "matplotlib.rc('xtick', labelsize=15) \n",
    "matplotlib.rc('ytick', labelsize=15) "
   ]
  },
  {
   "cell_type": "code",
   "execution_count": 27,
   "metadata": {},
   "outputs": [],
   "source": [
    "# Import the comparison data (work on this later...)\n",
    "# hdus = fits.open('/Users/xwou/Documents/Research/utilities/smhr-rpa/smh/data/spectra/cd-38_245.fits')\n",
    "# head = hdus[0].header\n",
    "# data = hdus[0].data\n",
    "# hdus.close()\n",
    "# Fits file only included flux data; wavelength is stored as a starting point plus delta wl along the axis"
   ]
  },
  {
   "cell_type": "code",
   "execution_count": 5,
   "metadata": {},
   "outputs": [],
   "source": [
    "# Import the data\n",
    "name_spec = ['smss1_09','smss1_12','smss1_18','smss1_29','smss1_33',\n",
    "             'smss338','smss343','smss697','smss709','smss710','smss712']\n",
    "\n",
    "old_spec, new_spec = [], []\n",
    "for i in range(len(name_spec)):\n",
    "    old_spec.append(pd.read_csv('../data/norm_spec/'+name_spec[i]+'_old',delim_whitespace=True))\n",
    "    try:\n",
    "        new_spec.append(pd.read_csv('../data/norm_spec/'+name_spec[i]+'_rered',delim_whitespace=True))\n",
    "    except:\n",
    "        tmp_spec = pd.read_csv('../data/norm_spec/'+name_spec[i]+'_old',delim_whitespace=True)\n",
    "        tmp_spec.loc[:,'flux'] = np.zeros(len(tmp_spec))\n",
    "        new_spec.append(tmp_spec.copy())"
   ]
  },
  {
   "cell_type": "code",
   "execution_count": 12,
   "metadata": {},
   "outputs": [],
   "source": [
    "# Define the plotting function\n",
    "# A4 canvas\n",
    "fig_width_cm = 21                                # A4 page\n",
    "fig_height_cm = 29.7\n",
    "inches_per_cm = 1 / 2.54                         # Convert cm to inches\n",
    "fig_width = fig_width_cm * inches_per_cm         # width in inches\n",
    "fig_height = fig_height_cm * inches_per_cm       # height in inches\n",
    "fig_size = [fig_width, fig_height]\n",
    "\n",
    "# Wavelength ranges for the summary plot\n",
    "start_wls = [5163]\n",
    "end_wls = [5187]\n",
    "elem_names = ['Mg']\n",
    "\n",
    "def plot_mg_stack(old_data,new_data,filename,start_wls=start_wls,end_wls=end_wls,elem_names=elem_names):\n",
    "    # Determine how many rows and subplots in total needed\n",
    "    assert (len(old_data) == len(new_data)) & (len(start_wls) == len(end_wls))\n",
    "    N_page = len(start_wls)\n",
    "    N_stack = len(old_data)\n",
    "    \n",
    "    # Loop through pages with each pages with a given amount of rows\n",
    "    for i in range(N_page):\n",
    "        f = plt.figure(figsize=fig_size)\n",
    "        # For each page, plot rows and save it to a separate pdf file\n",
    "\n",
    "        # Start plotting\n",
    "        for j in range(N_stack):\n",
    "            # Determine the starting index and ending index for a given stack\n",
    "            # Could just plot the whole thing all the time, but we want to save time\n",
    "            start_wl, end_wl = start_wls[i], end_wls[i]\n",
    "\n",
    "            # Plot the old spectrum\n",
    "            if j in range(0,5):\n",
    "                try:\n",
    "                    start_ind = np.where(abs(old_data[j]['wavelength']-start_wl) <= 0.1)[0][0]\n",
    "                    end_ind = np.where(abs(old_data[j]['wavelength']-end_wl) <= 0.1)[0][-1]\n",
    "                    plt.plot(old_data[j]['wavelength'][start_ind:end_ind],old_data[j]['flux'][start_ind:end_ind]+j,\n",
    "                             ls='-',c='k',lw=0.5,label=name_spec[j])\n",
    "                except IndexError:\n",
    "                    print('Star',name_spec[i],'has no old spectrum at wavelength range:',str(start_wl),'to',str(end_wl))\n",
    "\n",
    "            # Plot the new re-reduced spectrum\n",
    "            else: \n",
    "                try:\n",
    "                    start_ind = np.where(abs(new_data[j]['wavelength']-start_wl) <= 0.1)[0][0]\n",
    "                    end_ind = np.where(abs(new_data[j]['wavelength']-end_wl) <= 0.1)[0][-1]\n",
    "                    plt.plot(new_data[j]['wavelength'][start_ind:end_ind],new_data[j]['flux'][start_ind:end_ind]+j,\n",
    "                             ls='--',c='r',lw=0.5,label=name_spec[j])\n",
    "                except IndexError:\n",
    "                    print('Star',name_spec[i],'has no rereduced spectrum at wavelength range:',str(start_wl),'to',str(end_wl))\n",
    "                \n",
    "\n",
    "        plt.xlim([start_wl,end_wl])\n",
    "        plt.ylim([0,j+1.2])\n",
    "        plt.xlabel(r'Wavelength [$\\mathring{A}$]',fontsize=20)\n",
    "        plt.ylabel('Flux',fontsize=20)\n",
    "\n",
    "        # Put legend\n",
    "        plt.legend(fontsize=8)\n",
    "            \n",
    "        # Export the current page\n",
    "#         plt.show()\n",
    "        f.savefig(filename+elem_names[i]+\".pdf\")\n",
    "        plt.close(f)"
   ]
  },
  {
   "cell_type": "code",
   "execution_count": 15,
   "metadata": {},
   "outputs": [],
   "source": [
    "plot_mg_stack(old_spec,new_spec,filename='norm_spec_plot/stack_plots/stack_',start_wls=start_wls,end_wls=end_wls,elem_names=elem_names)"
   ]
  },
  {
   "cell_type": "code",
   "execution_count": null,
   "metadata": {},
   "outputs": [],
   "source": []
  }
 ],
 "metadata": {
  "kernelspec": {
   "display_name": "Python 3",
   "language": "python",
   "name": "python3"
  },
  "language_info": {
   "codemirror_mode": {
    "name": "ipython",
    "version": 3
   },
   "file_extension": ".py",
   "mimetype": "text/x-python",
   "name": "python",
   "nbconvert_exporter": "python",
   "pygments_lexer": "ipython3",
   "version": "3.7.6"
  }
 },
 "nbformat": 4,
 "nbformat_minor": 5
}
