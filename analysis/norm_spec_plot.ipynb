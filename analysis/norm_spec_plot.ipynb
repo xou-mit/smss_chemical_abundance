{
 "cells": [
  {
   "cell_type": "code",
   "execution_count": 1,
   "id": "provincial-rendering",
   "metadata": {},
   "outputs": [],
   "source": [
    "import matplotlib.pyplot as plt\n",
    "import matplotlib\n",
    "import numpy as np\n",
    "import glob\n",
    "import pandas as pd\n",
    "\n",
    "matplotlib.rc('xtick', labelsize=12) \n",
    "matplotlib.rc('ytick', labelsize=12) "
   ]
  },
  {
   "cell_type": "code",
   "execution_count": 8,
   "id": "democratic-month",
   "metadata": {},
   "outputs": [],
   "source": [
    "# Import the data\n",
    "old_spec = pd.read_csv('../data/norm_spec/smss1_29_extra',delim_whitespace=True)\n",
    "new_spec = pd.read_csv('../data/norm_spec/smss1_29_extra_myreduc',delim_whitespace=True)"
   ]
  },
  {
   "cell_type": "code",
   "execution_count": 3,
   "id": "criminal-universal",
   "metadata": {},
   "outputs": [],
   "source": [
    "# Define the plotting function\n",
    "# A4 canvas\n",
    "fig_width_cm = 21                                # A4 page\n",
    "fig_height_cm = 29.7\n",
    "inches_per_cm = 1 / 2.54                         # Convert cm to inches\n",
    "fig_width = fig_width_cm * inches_per_cm         # width in inches\n",
    "fig_height = fig_height_cm * inches_per_cm       # height in inches\n",
    "fig_size = [fig_width, fig_height]\n",
    "\n",
    "def plot_spec(old_data,new_data,filename,wl_range=[3700,6600],wl_width=60,row_per_page=6):\n",
    "    # Determine how many rows and pages in total needed\n",
    "    N_row = int((wl_range[1]-wl_range[0])/wl_width)+1\n",
    "    N_page = int(N_row/row_per_page-0.01)+1\n",
    "    \n",
    "    # Loop through pages with each pages with a given amount of rows\n",
    "    for i in range(N_page):\n",
    "        f = plt.figure(figsize=fig_size)\n",
    "        # For each page, plot rows and save it to a separate pdf file\n",
    "        for j in range(row_per_page):\n",
    "            # Check to see if we have reached the last row\n",
    "            which_row = (i)*row_per_page+j+1\n",
    "            if which_row == N_row+1 :\n",
    "                break\n",
    "            \n",
    "            # Start plotting\n",
    "            plt.subplot(row_per_page,1,j+1)\n",
    "            # Determine the starting index and ending index for a given row\n",
    "            # Could just plot the whole thing all the time, but we want to save time\n",
    "            start_wl = wl_range[0]+(which_row-1)*wl_width\n",
    "            end_wl = wl_range[0]+(which_row)*wl_width\n",
    "            # Plot the old spectrum\n",
    "            start_ind = np.where(abs(old_data['wavelength']-start_wl) <= 0.1)[0][0]\n",
    "            end_ind = np.where(abs(old_data['wavelength']-end_wl) <= 0.1)[0][-1]\n",
    "            plt.plot(old_data['wavelength'][start_ind:end_ind],old_data['flux'][start_ind:end_ind],\n",
    "                     ls='-',c='b',lw=0.5,label='Old')\n",
    "            \n",
    "            # Plot the new re-reduced spectrum\n",
    "            start_ind = np.where(abs(new_data['wavelength']-start_wl) <= 0.1)[0][0]\n",
    "            end_ind = np.where(abs(new_data['wavelength']-end_wl) <= 0.1)[0][-1]\n",
    "            plt.plot(new_data['wavelength'][start_ind:end_ind],new_data['flux'][start_ind:end_ind],\n",
    "                     ls='--',c='r',lw=0.5,label='New')\n",
    "            \n",
    "            plt.xlim([start_wl,end_wl])\n",
    "            plt.ylim([0,1.2])\n",
    "            \n",
    "            # Put legend if this is the first row of the page\n",
    "            if which_row%row_per_page == 1:\n",
    "                plt.legend(fontsize=8)\n",
    "            \n",
    "        # Export the current page\n",
    "        f.savefig(filename+str(i)+\".pdf\")\n",
    "        plt.close(f)"
   ]
  },
  {
   "cell_type": "code",
   "execution_count": 15,
   "id": "strong-nurse",
   "metadata": {},
   "outputs": [],
   "source": [
    "# plot_spec(old_spec,new_spec,'norm_spec_plot/test/test_plot_',wl_range=[3700,4080],wl_width=60,row_per_page=6)"
   ]
  },
  {
   "cell_type": "code",
   "execution_count": 16,
   "id": "silent-progress",
   "metadata": {},
   "outputs": [],
   "source": [
    "# plot_spec(old_spec,new_spec,'norm_spec_plot/smss338/smss338_spec_comp_',wl_range=[3700,6600],wl_width=60,row_per_page=6)"
   ]
  },
  {
   "cell_type": "code",
   "execution_count": 20,
   "id": "quiet-guest",
   "metadata": {},
   "outputs": [],
   "source": [
    "# plot_spec(old_spec,new_spec,'norm_spec_plot/smss343/smss343_spec_comp_',wl_range=[3700,6600],wl_width=60,row_per_page=6)"
   ]
  },
  {
   "cell_type": "code",
   "execution_count": 4,
   "id": "gross-affect",
   "metadata": {},
   "outputs": [],
   "source": [
    "# plot_spec(old_spec,new_spec,'norm_spec_plot/smss1_29/smss1_29_spec_comp_',wl_range=[3700,6600],wl_width=60,row_per_page=6)"
   ]
  },
  {
   "cell_type": "code",
   "execution_count": 7,
   "id": "legitimate-emergency",
   "metadata": {},
   "outputs": [],
   "source": [
    "# plot_spec(old_spec,new_spec,'norm_spec_plot/smss1_18/smss1_18_0804spec_comp_',wl_range=[3700,6600],wl_width=60,row_per_page=6)"
   ]
  },
  {
   "cell_type": "code",
   "execution_count": 9,
   "id": "sustainable-headquarters",
   "metadata": {},
   "outputs": [],
   "source": [
    "plot_spec(old_spec,new_spec,'norm_spec_plot/smss1_29/smss1_29_0804spec_comp_',wl_range=[3700,6600],wl_width=60,row_per_page=6)"
   ]
  },
  {
   "cell_type": "code",
   "execution_count": null,
   "id": "educational-satisfaction",
   "metadata": {},
   "outputs": [],
   "source": []
  }
 ],
 "metadata": {
  "kernelspec": {
   "display_name": "Python 3",
   "language": "python",
   "name": "python3"
  },
  "language_info": {
   "codemirror_mode": {
    "name": "ipython",
    "version": 3
   },
   "file_extension": ".py",
   "mimetype": "text/x-python",
   "name": "python",
   "nbconvert_exporter": "python",
   "pygments_lexer": "ipython3",
   "version": "3.8.5"
  }
 },
 "nbformat": 4,
 "nbformat_minor": 5
}
